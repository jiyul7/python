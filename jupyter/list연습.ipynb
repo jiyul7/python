{
 "metadata": {
  "language_info": {
   "codemirror_mode": {
    "name": "ipython",
    "version": 3
   },
   "file_extension": ".py",
   "mimetype": "text/x-python",
   "name": "python",
   "nbconvert_exporter": "python",
   "pygments_lexer": "ipython3",
   "version": "3.8.5-final"
  },
  "orig_nbformat": 2,
  "kernelspec": {
   "name": "python_defaultSpec_1597307720879",
   "display_name": "Python 3.8.5 64-bit"
  }
 },
 "nbformat": 4,
 "nbformat_minor": 2,
 "cells": [
  {
   "cell_type": "code",
   "execution_count": 3,
   "metadata": {},
   "outputs": [],
   "source": [
    "days = [\"mon\", \"tue\"]"
   ]
  },
  {
   "cell_type": "code",
   "execution_count": 6,
   "metadata": {
    "tags": []
   },
   "outputs": [
    {
     "output_type": "stream",
     "name": "stdout",
     "text": "['mon', 'tue', 'Wed']\n"
    }
   ],
   "source": [
    "print(days)\n",
    "days.append('Wed')\n"
   ]
  },
  {
   "cell_type": "code",
   "execution_count": 8,
   "metadata": {},
   "outputs": [
    {
     "output_type": "execute_result",
     "data": {
      "text/plain": "['c:\\\\git\\\\python\\\\jupyter',\n 'C:\\\\Users\\\\KODIT\\\\AppData\\\\Local\\\\Programs\\\\Microsoft VS Code',\n 'c:\\\\Users\\\\KODIT\\\\.vscode\\\\extensions\\\\ms-python.python-2020.7.96456\\\\pythonFiles',\n 'c:\\\\Users\\\\KODIT\\\\.vscode\\\\extensions\\\\ms-python.python-2020.7.96456\\\\pythonFiles\\\\lib\\\\python',\n 'C:\\\\Program Files\\\\WindowsApps\\\\PythonSoftwareFoundation.Python.3.8_3.8.1520.0_x64__qbz5n2kfra8p0\\\\python38.zip',\n 'C:\\\\Program Files\\\\WindowsApps\\\\PythonSoftwareFoundation.Python.3.8_3.8.1520.0_x64__qbz5n2kfra8p0\\\\DLLs',\n 'C:\\\\Program Files\\\\WindowsApps\\\\PythonSoftwareFoundation.Python.3.8_3.8.1520.0_x64__qbz5n2kfra8p0\\\\lib',\n 'C:\\\\Users\\\\KODIT\\\\AppData\\\\Local\\\\Microsoft\\\\WindowsApps\\\\PythonSoftwareFoundation.Python.3.8_qbz5n2kfra8p0',\n '',\n 'C:\\\\Users\\\\KODIT\\\\AppData\\\\Local\\\\Packages\\\\PythonSoftwareFoundation.Python.3.8_qbz5n2kfra8p0\\\\LocalCache\\\\local-packages\\\\Python38\\\\site-packages',\n 'C:\\\\Users\\\\KODIT\\\\AppData\\\\Local\\\\Packages\\\\PythonSoftwareFoundation.Python.3.8_qbz5n2kfra8p0\\\\LocalCache\\\\local-packages\\\\Python38\\\\site-packages\\\\win32',\n 'C:\\\\Users\\\\KODIT\\\\AppData\\\\Local\\\\Packages\\\\PythonSoftwareFoundation.Python.3.8_qbz5n2kfra8p0\\\\LocalCache\\\\local-packages\\\\Python38\\\\site-packages\\\\win32\\\\lib',\n 'C:\\\\Users\\\\KODIT\\\\AppData\\\\Local\\\\Packages\\\\PythonSoftwareFoundation.Python.3.8_qbz5n2kfra8p0\\\\LocalCache\\\\local-packages\\\\Python38\\\\site-packages\\\\Pythonwin',\n 'C:\\\\Program Files\\\\WindowsApps\\\\PythonSoftwareFoundation.Python.3.8_3.8.1520.0_x64__qbz5n2kfra8p0',\n 'C:\\\\Program Files\\\\WindowsApps\\\\PythonSoftwareFoundation.Python.3.8_3.8.1520.0_x64__qbz5n2kfra8p0\\\\lib\\\\site-packages',\n 'C:\\\\Users\\\\KODIT\\\\AppData\\\\Local\\\\Packages\\\\PythonSoftwareFoundation.Python.3.8_qbz5n2kfra8p0\\\\LocalCache\\\\local-packages\\\\Python38\\\\site-packages\\\\IPython\\\\extensions',\n 'C:\\\\Users\\\\KODIT\\\\.ipython',\n 'C:\\\\git\\\\python\\\\userLib',\n 'C:\\\\git\\\\python\\\\userLib',\n 'C:\\\\git\\\\python\\\\userLib']"
     },
     "metadata": {},
     "execution_count": 8
    }
   ],
   "source": [
    "import sys\n",
    "sys.path.append(\"C:\\\\git\\\\python\\\\userLib\")\n",
    "sys.path"
   ]
  },
  {
   "cell_type": "code",
   "execution_count": 5,
   "metadata": {
    "tags": []
   },
   "outputs": [
    {
     "output_type": "stream",
     "name": "stdout",
     "text": "20200805\n20200804\n"
    }
   ],
   "source": [
    "list = [\"20200805\", \"20200804\", \"20200731\"]\n",
    "cnt = 0\n",
    "for i in list:\n",
    "    if cnt < 2:\n",
    "        print(i)\n",
    "    else:\n",
    "        break\n",
    "    cnt=cnt+1"
   ]
  },
  {
   "cell_type": "code",
   "execution_count": 46,
   "metadata": {
    "tags": []
   },
   "outputs": [
    {
     "output_type": "stream",
     "name": "stdout",
     "text": "2\n"
    }
   ],
   "source": [
    "import bs4\n",
    "html = '<a class=\"nclicks(fls.page)\" href=\"?mode=LPOD&amp;sid2=140&amp;sid1=001&amp;mid=sec&amp;oid=001&amp;isYeonhapFlash=Y&amp;date=20200811&amp;page=2\">2</a>'\n",
    "soup = bs4.BeautifulSoup(html, \"html.parser\")\n",
    "print(soup.find(\"a\").text)"
   ]
  },
  {
   "cell_type": "code",
   "execution_count": null,
   "metadata": {},
   "outputs": [],
   "source": []
  }
 ]
}